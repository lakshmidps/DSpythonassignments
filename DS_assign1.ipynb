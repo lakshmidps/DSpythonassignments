{
  "nbformat": 4,
  "nbformat_minor": 0,
  "metadata": {
    "colab": {
      "provenance": []
    },
    "kernelspec": {
      "name": "python3",
      "display_name": "Python 3"
    },
    "language_info": {
      "name": "python"
    }
  },
  "cells": [
    {
      "cell_type": "code",
      "execution_count": 2,
      "metadata": {
        "colab": {
          "base_uri": "https://localhost:8080/"
        },
        "id": "MYguNTfE-k1b",
        "outputId": "84aca3ae-159c-499b-8acc-49bf032b6d64"
      },
      "outputs": [
        {
          "output_type": "stream",
          "name": "stdout",
          "text": [
            "Enter temperature in Celsius: 10\n",
            "10.0°C is equivalent to 50.0°F\n"
          ]
        }
      ],
      "source": [
        "#1. Write a program to read Celsius temperature and print equivalent Fahrenheit temperate on screen\n",
        "# Function to convert Celsius to Fahrenheit\n",
        "def celsius_to_fahrenheit(celsius):\n",
        "  return (celsius * 9/5) + 32\n",
        "# Read temperature in Celsius from the user\n",
        "celsius = float(input(\"Enter temperature in Celsius: \"))\n",
        "# Convert to Fahrenheit\n",
        "fahrenheit = celsius_to_fahrenheit(celsius)\n",
        "# Print the result\n",
        "print(f\"{celsius}°C is equivalent to {fahrenheit}°F\")\n"
      ]
    },
    {
      "cell_type": "code",
      "source": [
        "#2. Read radius of the circle from user and find the area and perimeter of it.\n",
        "import math\n",
        "\n",
        "# Function to calculate the area of a circle\n",
        "def calculate_area(radius):\n",
        "    return math.pi * radius ** 2\n",
        "\n",
        "# Function to calculate the perimeter (circumference) of a circle\n",
        "def calculate_perimeter(radius):\n",
        "    return 2 * math.pi * radius\n",
        "\n",
        "# Read the radius from the user\n",
        "radius = float(input(\"Enter the radius of the circle: \"))\n",
        "\n",
        "# Calculate the area and perimeter\n",
        "area = calculate_area(radius)\n",
        "perimeter = calculate_perimeter(radius)\n",
        "\n",
        "# Print the results\n",
        "print(f\"The area of the circle with radius {radius} is {area:.2f}\")\n",
        "print(f\"The perimeter (circumference) of the circle with radius {radius} is {perimeter:.2f}\")\n"
      ],
      "metadata": {
        "colab": {
          "base_uri": "https://localhost:8080/"
        },
        "id": "NKSCHJFV_MQX",
        "outputId": "ac799d64-645b-4465-8bc6-38a3c63ec60c"
      },
      "execution_count": 3,
      "outputs": [
        {
          "output_type": "stream",
          "name": "stdout",
          "text": [
            "Enter the radius of the circle: 2\n",
            "The area of the circle with radius 2.0 is 12.57\n",
            "The perimeter (circumference) of the circle with radius 2.0 is 12.57\n"
          ]
        }
      ]
    },
    {
      "cell_type": "code",
      "source": [
        "#3. Read the amount and percentage of interest from the keyboard and find final amount after adding interest in original amount.\n",
        "# Function to calculate the final amount after adding interest\n",
        "def calculate_final_amount(amount, interest_rate):\n",
        "    interest = (amount * interest_rate) / 100\n",
        "    return amount + interest\n",
        "\n",
        "# Read the original amount from the user\n",
        "amount = float(input(\"Enter the original amount: \"))\n",
        "\n",
        "# Read the percentage of interest from the user\n",
        "interest_rate = float(input(\"Enter the percentage of interest: \"))\n",
        "\n",
        "# Calculate the final amount\n",
        "final_amount = calculate_final_amount(amount, interest_rate)\n",
        "\n",
        "# Print the final amount\n",
        "print(f\"The final amount after adding {interest_rate}% interest is {final_amount:.2f}\")\n"
      ],
      "metadata": {
        "colab": {
          "base_uri": "https://localhost:8080/"
        },
        "id": "TWbZQtva_XdW",
        "outputId": "47a4cb96-191e-4ace-b993-8edea3e3c0d3"
      },
      "execution_count": 5,
      "outputs": [
        {
          "output_type": "stream",
          "name": "stdout",
          "text": [
            "Enter the original amount: 100\n",
            "Enter the percentage of interest: 5\n",
            "The final amount after adding 5.0% interest is 105.00\n"
          ]
        }
      ]
    },
    {
      "cell_type": "code",
      "source": [
        "#4. Write a program to read distance value in meters and convert it into centimeters, inches, and yards.\n",
        "# Conversion factors\n",
        "METERS_TO_CENTIMETERS = 100\n",
        "METERS_TO_INCHES = 39.3701\n",
        "METERS_TO_YARDS = 1.09361\n",
        "\n",
        "# Function to convert meters to centimeters\n",
        "def convert_to_centimeters(meters):\n",
        "    return meters * METERS_TO_CENTIMETERS\n",
        "\n",
        "# Function to convert meters to inches\n",
        "def convert_to_inches(meters):\n",
        "    return meters * METERS_TO_INCHES\n",
        "\n",
        "# Function to convert meters to yards\n",
        "def convert_to_yards(meters):\n",
        "    return meters * METERS_TO_YARDS\n",
        "\n",
        "# Read the distance in meters from the user\n",
        "meters = float(input(\"Enter the distance in meters: \"))\n",
        "\n",
        "# Convert to centimeters, inches, and yards\n",
        "centimeters = convert_to_centimeters(meters)\n",
        "inches = convert_to_inches(meters)\n",
        "yards = convert_to_yards(meters)\n",
        "\n",
        "# Print the results\n",
        "print(f\"{meters} meters is equivalent to {centimeters:.2f} centimeters\")\n",
        "print(f\"{meters} meters is equivalent to {inches:.2f} inches\")\n",
        "print(f\"{meters} meters is equivalent to {yards:.2f} yards\")\n"
      ],
      "metadata": {
        "colab": {
          "base_uri": "https://localhost:8080/"
        },
        "id": "_X-iFKVY_tIV",
        "outputId": "35932b1e-667f-43f1-e1a0-8dcc0e593bca"
      },
      "execution_count": 6,
      "outputs": [
        {
          "output_type": "stream",
          "name": "stdout",
          "text": [
            "Enter the distance in meters: 20\n",
            "20.0 meters is equivalent to 2000.00 centimeters\n",
            "20.0 meters is equivalent to 787.40 inches\n",
            "20.0 meters is equivalent to 21.87 yards\n"
          ]
        }
      ]
    },
    {
      "cell_type": "code",
      "source": [
        "#5. Write a Python program to calculate profit or loss. Input is selling cost and actual cost of a product.\n",
        "# Function to calculate profit or loss\n",
        "def calculate_profit_or_loss(actual_cost, selling_cost):\n",
        "    if selling_cost > actual_cost:\n",
        "        profit = selling_cost - actual_cost\n",
        "        return f\"Profit of {profit:.2f}\"\n",
        "    elif selling_cost < actual_cost:\n",
        "        loss = actual_cost - selling_cost\n",
        "        return f\"Loss of {loss:.2f}\"\n",
        "    else:\n",
        "        return \"No profit, no loss\"\n",
        "\n",
        "# Read the actual cost and selling cost from the user\n",
        "actual_cost = float(input(\"Enter the actual cost of the product: \"))\n",
        "selling_cost = float(input(\"Enter the selling cost of the product: \"))\n",
        "\n",
        "# Calculate and print profit or loss\n",
        "result = calculate_profit_or_loss(actual_cost, selling_cost)\n",
        "print(result)\n"
      ],
      "metadata": {
        "colab": {
          "base_uri": "https://localhost:8080/"
        },
        "id": "rI7zfoQ-_2Vk",
        "outputId": "e0874db5-27d8-4434-eea2-3093f7460ad0"
      },
      "execution_count": 7,
      "outputs": [
        {
          "output_type": "stream",
          "name": "stdout",
          "text": [
            "Enter the actual cost of the product: 1000\n",
            "Enter the selling cost of the product: 2000\n",
            "Profit of 1000.00\n"
          ]
        }
      ]
    },
    {
      "cell_type": "code",
      "source": [
        "#6. Write a program to input basic salary and find output of gross salary using\n",
        "# Function to calculate gross salary\n",
        "def calculate_gross_salary(basic_salary):\n",
        "    da = 0.75 * basic_salary  # DA is 75% of basic salary\n",
        "    hra = 0.20 * basic_salary  # HRA is 20% of basic salary\n",
        "\n",
        "    if basic_salary < 10000:\n",
        "        gross_salary = basic_salary + da\n",
        "    elif 10000 <= basic_salary < 20000:\n",
        "        gross_salary = basic_salary + da + 0.50 * hra\n",
        "    else:  # basic_salary >= 20000\n",
        "        gross_salary = basic_salary + da + hra\n",
        "\n",
        "    return gross_salary\n",
        "\n",
        "# Read the basic salary from the user\n",
        "basic_salary = float(input(\"Enter the basic salary: \"))\n",
        "\n",
        "# Calculate the gross salary\n",
        "gross_salary = calculate_gross_salary(basic_salary)\n",
        "\n",
        "# Print the gross salary\n",
        "print(f\"The gross salary is: {gross_salary:.2f}\")\n"
      ],
      "metadata": {
        "colab": {
          "base_uri": "https://localhost:8080/"
        },
        "id": "PzuElT4cAFRL",
        "outputId": "a7b25e63-6d69-4776-d0a6-56d59c28fe6e"
      },
      "execution_count": 8,
      "outputs": [
        {
          "output_type": "stream",
          "name": "stdout",
          "text": [
            "Enter the basic salary: 50000\n",
            "The gross salary is: 97500.00\n"
          ]
        }
      ]
    },
    {
      "cell_type": "code",
      "source": [
        "#7. Write a program to read a number from user and find the factorial of the number.\n",
        "# Function to calculate the factorial of a number\n",
        "def factorial(n):\n",
        "    if n == 0 or n == 1:\n",
        "        return 1\n",
        "    else:\n",
        "        result = 1\n",
        "        for i in range(2, n + 1):\n",
        "            result *= i\n",
        "        return result\n",
        "\n",
        "# Read the number from the user\n",
        "number = int(input(\"Enter a number to find its factorial: \"))\n",
        "\n",
        "# Check if the number is negative\n",
        "if number < 0:\n",
        "    print(\"Factorial is not defined for negative numbers.\")\n",
        "else:\n",
        "    # Calculate the factorial\n",
        "    fact = factorial(number)\n",
        "    # Print the result\n",
        "    print(f\"The factorial of {number} is {fact}\")\n"
      ],
      "metadata": {
        "colab": {
          "base_uri": "https://localhost:8080/"
        },
        "id": "pnOCcKjGAOaK",
        "outputId": "0a5ee664-0e8b-455a-c3e1-a7e63c808a7c"
      },
      "execution_count": 10,
      "outputs": [
        {
          "output_type": "stream",
          "name": "stdout",
          "text": [
            "Enter a number to find its factorial: 20\n",
            "The factorial of 20 is 2432902008176640000\n"
          ]
        }
      ]
    },
    {
      "cell_type": "code",
      "source": [
        "#8. Write a program to read num1 and num2 from keyboard and find addition of all number between that range.\n",
        "# Function to calculate the sum of all numbers between num1 and num2\n",
        "def sum_in_range(num1, num2):\n",
        "    if num1 > num2:\n",
        "        # Swap num1 and num2 if num1 is greater than num2\n",
        "        num1, num2 = num2, num1\n",
        "    total_sum = 0\n",
        "    for i in range(num1, num2 + 1):\n",
        "        total_sum += i\n",
        "    return total_sum\n",
        "\n",
        "# Read num1 and num2 from the user\n",
        "num1 = int(input(\"Enter the first number (num1): \"))\n",
        "num2 = int(input(\"Enter the second number (num2): \"))\n",
        "\n",
        "# Calculate the sum of all numbers in the range\n",
        "total_sum = sum_in_range(num1, num2)\n",
        "\n",
        "# Print the result\n",
        "print(f\"The sum of all numbers between {num1} and {num2} (inclusive) is: {total_sum}\")\n"
      ],
      "metadata": {
        "colab": {
          "base_uri": "https://localhost:8080/"
        },
        "id": "J0ph3FlkAZAD",
        "outputId": "08e00904-8a35-4790-99f1-fd8a69f0deba"
      },
      "execution_count": 12,
      "outputs": [
        {
          "output_type": "stream",
          "name": "stdout",
          "text": [
            "Enter the first number (num1): 10\n",
            "Enter the second number (num2): 20\n",
            "The sum of all numbers between 10 and 20 (inclusive) is: 165\n"
          ]
        }
      ]
    },
    {
      "cell_type": "code",
      "source": [
        "#9. See the tuple given: num = (56,2,35,41,43,48,32,56,71,55,68) Write a program to create two lists from it where first list contains only even numbers and second will contain only odd numbers\n",
        "# Given tuple\n",
        "num = (56, 2, 35, 41, 43, 48, 32, 56, 71, 55, 68)\n",
        "\n",
        "# Initialize empty lists for even and odd numbers\n",
        "even_numbers = []\n",
        "odd_numbers = []\n",
        "\n",
        "# Iterate over each number in the tuple\n",
        "for n in num:\n",
        "    if n % 2 == 0:\n",
        "        even_numbers.append(n)\n",
        "    else:\n",
        "        odd_numbers.append(n)\n",
        "\n",
        "# Print the results\n",
        "print(f\"Even numbers list: {even_numbers}\")\n",
        "print(f\"Odd numbers list: {odd_numbers}\")\n"
      ],
      "metadata": {
        "colab": {
          "base_uri": "https://localhost:8080/"
        },
        "id": "IMA9JeFkBIfx",
        "outputId": "a1da80fd-faeb-4078-d06e-81bcebab6f38"
      },
      "execution_count": 13,
      "outputs": [
        {
          "output_type": "stream",
          "name": "stdout",
          "text": [
            "Even numbers list: [56, 2, 48, 32, 56, 68]\n",
            "Odd numbers list: [35, 41, 43, 71, 55]\n"
          ]
        }
      ]
    },
    {
      "cell_type": "code",
      "source": [
        "#10. Write a program to read a number from user. Create and use a user defined function to check whether it is odd or even?\n",
        "# Function to check whether a number is odd or even\n",
        "def is_odd_or_even(number):\n",
        "    if number % 2 == 0:\n",
        "        return \"Even\"\n",
        "    else:\n",
        "        return \"Odd\"\n",
        "\n",
        "# Read a number from the user\n",
        "number = int(input(\"Enter a number: \"))\n",
        "\n",
        "# Use the function to check if the number is odd or even\n",
        "result = is_odd_or_even(number)\n",
        "\n",
        "# Print the result\n",
        "print(f\"The number {number} is {result}.\")\n"
      ],
      "metadata": {
        "colab": {
          "base_uri": "https://localhost:8080/"
        },
        "id": "umPmh3AmBPi7",
        "outputId": "1f2e2d58-fbe1-4e8c-d420-72372909c845"
      },
      "execution_count": 14,
      "outputs": [
        {
          "output_type": "stream",
          "name": "stdout",
          "text": [
            "Enter a number: 21\n",
            "The number 21 is Odd.\n"
          ]
        }
      ]
    },
    {
      "cell_type": "code",
      "source": [
        "#11. Write a program to read a number from user and find the square root, sin, tan, log and factorial of this number using math module.\n",
        "import math\n",
        "\n",
        "# Function to calculate various mathematical operations\n",
        "def calculate_math_operations(number):\n",
        "    results = {}\n",
        "\n",
        "    # Calculate square root\n",
        "    if number >= 0:\n",
        "        results['square_root'] = math.sqrt(number)\n",
        "    else:\n",
        "        results['square_root'] = \"undefined for negative numbers\"\n",
        "\n",
        "    # Calculate sine (in radians)\n",
        "    results['sine'] = math.sin(number)\n",
        "\n",
        "    # Calculate tangent (in radians)\n",
        "    results['tangent'] = math.tan(number)\n",
        "\n",
        "    # Calculate logarithm (base 10)\n",
        "    if number > 0:\n",
        "        results['logarithm'] = math.log10(number)\n",
        "    else:\n",
        "        results['logarithm'] = \"undefined for non-positive numbers\"\n",
        "\n",
        "    # Calculate factorial\n",
        "    if number >= 0 and number.is_integer():\n",
        "        results['factorial'] = math.factorial(int(number))\n",
        "    else:\n",
        "        results['factorial'] = \"undefined for negative or non-integer numbers\"\n",
        "\n",
        "    return results\n",
        "\n",
        "# Read the number from the user\n",
        "number = float(input(\"Enter a number: \"))\n",
        "\n",
        "# Calculate the mathematical operations\n",
        "results = calculate_math_operations(number)\n",
        "\n",
        "# Print the results\n",
        "print(f\"Square root: {results['square_root']}\")\n",
        "print(f\"Sine: {results['sine']}\")\n",
        "print(f\"Tangent: {results['tangent']}\")\n",
        "print(f\"Logarithm (base 10): {results['logarithm']}\")\n",
        "print(f\"Factorial: {results['factorial']}\")\n"
      ],
      "metadata": {
        "colab": {
          "base_uri": "https://localhost:8080/"
        },
        "id": "lZlzDHzIBX3y",
        "outputId": "081cdbec-4c99-44d7-f6b6-4f03fa7514a2"
      },
      "execution_count": 16,
      "outputs": [
        {
          "output_type": "stream",
          "name": "stdout",
          "text": [
            "Enter a number: 30\n",
            "Square root: 5.477225575051661\n",
            "Sine: -0.9880316240928618\n",
            "Tangent: -6.405331196646276\n",
            "Logarithm (base 10): 1.4771212547196624\n",
            "Factorial: 265252859812191058636308480000000\n"
          ]
        }
      ]
    },
    {
      "cell_type": "code",
      "source": [
        "#12. Write a Python class named ‘Rectangle’ with two attributes length and width and a method named ‘calculate’ which will compute the area of a rectangle. Create an object to pass length and width and call the method to calculate the area of rectangle.\n",
        "class Rectangle:\n",
        "    def __init__(self, length, width):\n",
        "        # Initialize the length and width attributes\n",
        "        self.length = length\n",
        "        self.width = width\n",
        "\n",
        "    def calculate(self):\n",
        "        # Calculate the area of the rectangle\n",
        "        area = self.length * self.width\n",
        "        return area\n",
        "\n",
        "# Create an object of the Rectangle class\n",
        "length = float(input(\"Enter the length of the rectangle: \"))\n",
        "width = float(input(\"Enter the width of the rectangle: \"))\n",
        "rectangle = Rectangle(length, width)\n",
        "\n",
        "# Calculate the area using the calculate method\n",
        "area = rectangle.calculate()\n",
        "\n",
        "# Print the area of the rectangle\n",
        "print(f\"The area of the rectangle is: {area:.2f}\")\n"
      ],
      "metadata": {
        "colab": {
          "base_uri": "https://localhost:8080/"
        },
        "id": "Lafw38FgBnjH",
        "outputId": "4c26587b-4be0-46a1-c720-75edff730958"
      },
      "execution_count": 17,
      "outputs": [
        {
          "output_type": "stream",
          "name": "stdout",
          "text": [
            "Enter the length of the rectangle: 5\n",
            "Enter the width of the rectangle: 4\n",
            "The area of the rectangle is: 20.00\n"
          ]
        }
      ]
    },
    {
      "cell_type": "code",
      "source": [],
      "metadata": {
        "id": "HOJsLDWGBxP1"
      },
      "execution_count": null,
      "outputs": []
    }
  ]
}