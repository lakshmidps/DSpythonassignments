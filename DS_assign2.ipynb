{
  "nbformat": 4,
  "nbformat_minor": 0,
  "metadata": {
    "colab": {
      "provenance": []
    },
    "kernelspec": {
      "name": "python3",
      "display_name": "Python 3"
    },
    "language_info": {
      "name": "python"
    }
  },
  "cells": [
    {
      "cell_type": "code",
      "execution_count": 2,
      "metadata": {
        "colab": {
          "base_uri": "https://localhost:8080/"
        },
        "id": "_fHSuiHZ-qFo",
        "outputId": "7e301f2d-3492-4918-f7f5-a781484d59da"
      },
      "outputs": [
        {
          "output_type": "stream",
          "name": "stdout",
          "text": [
            "   sr.no           name  matches  runs  catches  wickets  stumpings\n",
            "0      1    Anil Dalpat      122  6755       56       12          0\n",
            "1      2   Rohan Kanhay      144  1256       76      178          0\n",
            "2      3  Avdhoot Dighe      265  8954      120        0          0\n",
            "3      4       Bahubali       10   756        6       11          3\n",
            "4      5      Leeladhar      234  2866      105      376          0\n"
          ]
        }
      ],
      "source": [
        "#1. Read the file in DataFrame\n",
        "import pandas as pd\n",
        "\n",
        "# Read the CSV file into a DataFrame\n",
        "df = pd.read_csv('/content/drive/MyDrive/Colab Notebooks/cricket.csv')\n",
        "\n",
        "# Display the first few rows of the DataFrame\n",
        "print(df.head())"
      ]
    },
    {
      "cell_type": "code",
      "source": [
        "# 2. Extracting the 'name' and 'runs' columns\n",
        "cricketers = df[['name', 'runs']]\n",
        "\n",
        "# Display the names of cricketers and their respective runs\n",
        "for index, row in cricketers.iterrows():\n",
        "    print(f\"Cricketer: {row['name']}, Runs: {row['runs']}\")"
      ],
      "metadata": {
        "colab": {
          "base_uri": "https://localhost:8080/"
        },
        "id": "O-U7hSq5BDq0",
        "outputId": "c8a913d8-4040-42cc-fed0-3b8c6cb656bc"
      },
      "execution_count": 3,
      "outputs": [
        {
          "output_type": "stream",
          "name": "stdout",
          "text": [
            "Cricketer: Anil Dalpat, Runs: 6755\n",
            "Cricketer: Rohan Kanhay, Runs: 1256\n",
            "Cricketer: Avdhoot Dighe, Runs: 8954\n",
            "Cricketer: Bahubali, Runs: 756\n",
            "Cricketer: Leeladhar, Runs: 2866\n",
            "Cricketer: Pradyumna, Runs: 5877\n",
            "Cricketer: Dinesh Roy, Runs: 8537\n",
            "Cricketer: Parmeshwar, Runs: 9466\n",
            "Cricketer: Ali Durrani, Runs: 2756\n",
            "Cricketer: Litesh Singh, Runs: 1099\n"
          ]
        }
      ]
    },
    {
      "cell_type": "code",
      "source": [
        "# 3. Calculate the total number of wickets\n",
        "total_wickets = df['wickets'].sum()\n",
        "\n",
        "# Print the total wickets\n",
        "print(f\"Total wickets taken by all cricketers: {total_wickets}\")\n"
      ],
      "metadata": {
        "colab": {
          "base_uri": "https://localhost:8080/"
        },
        "id": "JVEfo4FrCOBt",
        "outputId": "fd6272b7-52d8-4c81-f1b1-9cf937079087"
      },
      "execution_count": 4,
      "outputs": [
        {
          "output_type": "stream",
          "name": "stdout",
          "text": [
            "Total wickets taken by all cricketers: 790\n"
          ]
        }
      ]
    },
    {
      "cell_type": "code",
      "source": [
        "# 4. Calculate the average number of catches\n",
        "average_catches = df['catches'].mean()\n",
        "\n",
        "# Print the average catches\n",
        "print(f\"Average number of catches taken by cricketers: {average_catches:.2f}\")\n"
      ],
      "metadata": {
        "colab": {
          "base_uri": "https://localhost:8080/"
        },
        "id": "zmZF6C0oCTj1",
        "outputId": "0497157b-1dff-4c3e-8b94-96002bee6c1a"
      },
      "execution_count": 5,
      "outputs": [
        {
          "output_type": "stream",
          "name": "stdout",
          "text": [
            "Average number of catches taken by cricketers: 63.30\n"
          ]
        }
      ]
    },
    {
      "cell_type": "code",
      "source": [
        "# 5. Find the names of cricketers who are wicketkeepers (stumpings > 0)\n",
        "wicketkeepers = df[df['stumpings'] > 0]['name']\n",
        "\n",
        "# Print the names of wicketkeepers\n",
        "if not wicketkeepers.empty:\n",
        "    print(\"Wicketkeepers in the list:\")\n",
        "    for name in wicketkeepers:\n",
        "        print(name)\n",
        "else:\n",
        "    print(\"No wicketkeepers found.\")\n"
      ],
      "metadata": {
        "colab": {
          "base_uri": "https://localhost:8080/"
        },
        "id": "LLeDnMKqDWpK",
        "outputId": "6133bf85-4f3d-494c-b4e9-d2597cfb9678"
      },
      "execution_count": 6,
      "outputs": [
        {
          "output_type": "stream",
          "name": "stdout",
          "text": [
            "Wicketkeepers in the list:\n",
            "Bahubali\n"
          ]
        }
      ]
    },
    {
      "cell_type": "code",
      "source": [
        "# 6. Filter the DataFrame to only include bowlers (wickets > 0)\n",
        "bowlers = df[df['wickets'] > 0]\n",
        "\n",
        "# Find the bowler who played the highest number of matches\n",
        "top_bowler = bowlers.loc[bowlers['matches'].idxmax()]\n",
        "\n",
        "# Print the name of the bowler and the number of matches\n",
        "print(f\"Bowler with the highest number of matches: {top_bowler['name']}\")\n",
        "print(f\"Matches played: {top_bowler['matches']}\")\n"
      ],
      "metadata": {
        "colab": {
          "base_uri": "https://localhost:8080/"
        },
        "id": "XOSxxY68DZgy",
        "outputId": "3b5d7e02-29ae-448c-8f69-ca61c57b493d"
      },
      "execution_count": 7,
      "outputs": [
        {
          "output_type": "stream",
          "name": "stdout",
          "text": [
            "Bowler with the highest number of matches: Leeladhar\n",
            "Matches played: 234\n"
          ]
        }
      ]
    },
    {
      "cell_type": "code",
      "source": [
        "# 7. Filter the DataFrame to only include bowlers (wickets > 0)\n",
        "bowlers = df[df['wickets'] > 0]\n",
        "\n",
        "# Calculate the average number of matches played by bowlers\n",
        "average_matches = bowlers['matches'].mean()\n",
        "\n",
        "# Print the average number of matches\n",
        "print(f\"Average number of matches played by bowlers: {average_matches:.2f}\")\n"
      ],
      "metadata": {
        "colab": {
          "base_uri": "https://localhost:8080/"
        },
        "id": "e2s89D4fD-SI",
        "outputId": "00553483-ad05-4089-8ae8-b49dee791ce5"
      },
      "execution_count": 8,
      "outputs": [
        {
          "output_type": "stream",
          "name": "stdout",
          "text": [
            "Average number of matches played by bowlers: 130.25\n"
          ]
        }
      ]
    },
    {
      "cell_type": "code",
      "source": [
        "# 8. Filter the DataFrame to only include bowlers (wickets > 0)\n",
        "bowlers = df[df['wickets'] > 0]\n",
        "\n",
        "# Calculate the bowling average for each bowler\n",
        "bowlers['bowling_average'] = bowlers['wickets'] / bowlers['matches']\n",
        "\n",
        "# Find the bowler with the least bowling average\n",
        "least_bowling_average_bowler = bowlers.loc[bowlers['bowling_average'].idxmin()]\n",
        "\n",
        "# Print the name of the bowler with the least bowling average and the average\n",
        "print(f\"Bowler with the least bowling average: {least_bowling_average_bowler['name']}\")\n",
        "print(f\"Bowling average (wickets per match): {least_bowling_average_bowler['bowling_average']:.2f}\")\n"
      ],
      "metadata": {
        "colab": {
          "base_uri": "https://localhost:8080/"
        },
        "id": "Pid4CqKwEOtw",
        "outputId": "d62aa69e-6e58-4965-f0c8-60a8b1e10c21"
      },
      "execution_count": 9,
      "outputs": [
        {
          "output_type": "stream",
          "name": "stdout",
          "text": [
            "Bowler with the least bowling average: Dinesh Roy\n",
            "Bowling average (wickets per match): 0.08\n"
          ]
        },
        {
          "output_type": "stream",
          "name": "stderr",
          "text": [
            "<ipython-input-9-693365c3da04>:5: SettingWithCopyWarning: \n",
            "A value is trying to be set on a copy of a slice from a DataFrame.\n",
            "Try using .loc[row_indexer,col_indexer] = value instead\n",
            "\n",
            "See the caveats in the documentation: https://pandas.pydata.org/pandas-docs/stable/user_guide/indexing.html#returning-a-view-versus-a-copy\n",
            "  bowlers['bowling_average'] = bowlers['wickets'] / bowlers['matches']\n"
          ]
        }
      ]
    },
    {
      "cell_type": "code",
      "source": [
        "# 8 with corrections. Filter the DataFrame to only include bowlers (wickets > 0)\n",
        "bowlers = df[df['wickets'] > 0].copy()  # Make a copy to avoid SettingWithCopyWarning\n",
        "\n",
        "# Calculate the bowling average for each bowler\n",
        "bowlers.loc[:, 'bowling_average'] = bowlers['wickets'] / bowlers['matches']\n",
        "\n",
        "# Find the bowler with the least bowling average\n",
        "least_bowling_average_bowler = bowlers.loc[bowlers['bowling_average'].idxmin()]\n",
        "\n",
        "# Print the name of the bowler with the least bowling average and the average\n",
        "print(f\"Bowler with the least bowling average: {least_bowling_average_bowler['name']}\")\n",
        "print(f\"Bowling average (wickets per match): {least_bowling_average_bowler['bowling_average']:.2f}\")\n"
      ],
      "metadata": {
        "colab": {
          "base_uri": "https://localhost:8080/"
        },
        "id": "wLAfg6nIFIiv",
        "outputId": "40bf2f1e-4502-443e-8bb7-09c273986bc6"
      },
      "execution_count": 10,
      "outputs": [
        {
          "output_type": "stream",
          "name": "stdout",
          "text": [
            "Bowler with the least bowling average: Dinesh Roy\n",
            "Bowling average (wickets per match): 0.08\n"
          ]
        }
      ]
    },
    {
      "cell_type": "code",
      "source": [
        "# 9. Calculate the catches per match ratio for each player\n",
        "df['catches_per_match'] = df['catches'] / df['matches']\n",
        "\n",
        "# Filter the DataFrame to include only players with a catches per match ratio > 0.5\n",
        "high_catches_ratio_players = df[df['catches_per_match'] > 0.5]\n",
        "\n",
        "# Print the information about these players\n",
        "print(\"Players with catches per match ratio greater than 0.5:\")\n",
        "print(high_catches_ratio_players)\n",
        "\n",
        "# Save the filtered DataFrame to a new CSV file\n",
        "high_catches_ratio_players.to_csv('/content/drive/MyDrive/Colab Notebooks/high_catches_ratio_players.csv', index=False)\n"
      ],
      "metadata": {
        "colab": {
          "base_uri": "https://localhost:8080/"
        },
        "id": "EVcC29dtFMj8",
        "outputId": "edce7d7c-1ac1-44d7-fed4-d217a0a98067"
      },
      "execution_count": 11,
      "outputs": [
        {
          "output_type": "stream",
          "name": "stdout",
          "text": [
            "Players with catches per match ratio greater than 0.5:\n",
            "   sr.no          name  matches  runs  catches  wickets  stumpings  \\\n",
            "1      2  Rohan Kanhay      144  1256       76      178          0   \n",
            "3      4      Bahubali       10   756        6       11          3   \n",
            "6      7    Dinesh Roy      211  8537      112       16          0   \n",
            "9     10  Litesh Singh       89  1099       46       49          0   \n",
            "\n",
            "   catches_per_match  \n",
            "1           0.527778  \n",
            "3           0.600000  \n",
            "6           0.530806  \n",
            "9           0.516854  \n"
          ]
        }
      ]
    },
    {
      "cell_type": "code",
      "source": [
        "# 10. Extract player names and their runs\n",
        "import matplotlib.pyplot as plt\n",
        "\n",
        "player_names = df['name']\n",
        "runs = df['runs']\n",
        "\n",
        "# Create a bar chart\n",
        "plt.figure(figsize=(10, 6))\n",
        "plt.bar(player_names, runs, color='skyblue')\n",
        "plt.xlabel('Player Name')\n",
        "plt.ylabel('Runs')\n",
        "plt.title('Player Runs')\n",
        "plt.xticks(rotation=45, ha='right')  # Rotate player names for better readability\n",
        "\n",
        "# Display the bar chart\n",
        "plt.tight_layout()  # Adjust layout to prevent clipping\n",
        "plt.show()\n"
      ],
      "metadata": {
        "colab": {
          "base_uri": "https://localhost:8080/",
          "height": 607
        },
        "id": "5pDC4VQ4FldD",
        "outputId": "987efcb5-7506-4010-c90a-2dd576fe015d"
      },
      "execution_count": 13,
      "outputs": [
        {
          "output_type": "display_data",
          "data": {
            "text/plain": [
              "<Figure size 1000x600 with 1 Axes>"
            ],
            "image/png": "[encoded data removed]"
          },
          "metadata": {}
        }
      ]
    },
    {
      "cell_type": "code",
      "source": [
        "# 11. Sort the DataFrame by the 'runs' column in ascending order\n",
        "sorted_df = df.sort_values(by='runs')\n",
        "\n",
        "# Print the sorted DataFrame\n",
        "print(\"Players sorted by ascending order of runs:\")\n",
        "print(sorted_df)\n"
      ],
      "metadata": {
        "colab": {
          "base_uri": "https://localhost:8080/"
        },
        "id": "89_5XyshGK05",
        "outputId": "f9871dee-b1a1-498f-ba95-6ef9ea8cffa6"
      },
      "execution_count": 14,
      "outputs": [
        {
          "output_type": "stream",
          "name": "stdout",
          "text": [
            "Players sorted by ascending order of runs:\n",
            "   sr.no           name  matches  runs  catches  wickets  stumpings  \\\n",
            "3      4       Bahubali       10   756        6       11          3   \n",
            "9     10   Litesh Singh       89  1099       46       49          0   \n",
            "1      2   Rohan Kanhay      144  1256       76      178          0   \n",
            "8      9    Ali Durrani       55  2756       12       26          0   \n",
            "4      5      Leeladhar      234  2866      105      376          0   \n",
            "5      6      Pradyumna      177  5877       47      122          0   \n",
            "0      1    Anil Dalpat      122  6755       56       12          0   \n",
            "6      7     Dinesh Roy      211  8537      112       16          0   \n",
            "2      3  Avdhoot Dighe      265  8954      120        0          0   \n",
            "7      8     Parmeshwar      245  9466       53        0          0   \n",
            "\n",
            "   catches_per_match  \n",
            "3           0.600000  \n",
            "9           0.516854  \n",
            "1           0.527778  \n",
            "8           0.218182  \n",
            "4           0.448718  \n",
            "5           0.265537  \n",
            "0           0.459016  \n",
            "6           0.530806  \n",
            "2           0.452830  \n",
            "7           0.216327  \n"
          ]
        }
      ]
    },
    {
      "cell_type": "code",
      "source": [
        "# 12. Filter the DataFrame to include players where wickets > matches\n",
        "players_with_more_wickets = df[df['wickets'] > df['matches']]\n",
        "\n",
        "# Print the names of these players\n",
        "print(\"Players with more wickets than matches:\")\n",
        "for name in players_with_more_wickets['name']:\n",
        "    print(name)\n"
      ],
      "metadata": {
        "colab": {
          "base_uri": "https://localhost:8080/"
        },
        "id": "orMOi6QeGd9Q",
        "outputId": "033ec030-e85a-4ef7-c095-e0a164fdf1b0"
      },
      "execution_count": 15,
      "outputs": [
        {
          "output_type": "stream",
          "name": "stdout",
          "text": [
            "Players with more wickets than matches:\n",
            "Rohan Kanhay\n",
            "Bahubali\n",
            "Leeladhar\n"
          ]
        }
      ]
    }
  ]
}