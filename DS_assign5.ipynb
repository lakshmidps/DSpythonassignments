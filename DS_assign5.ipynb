{
  "nbformat": 4,
  "nbformat_minor": 0,
  "metadata": {
    "colab": {
      "provenance": []
    },
    "kernelspec": {
      "name": "python3",
      "display_name": "Python 3"
    },
    "language_info": {
      "name": "python"
    }
  },
  "cells": [
    {
      "cell_type": "code",
      "execution_count": 1,
      "metadata": {
        "colab": {
          "base_uri": "https://localhost:8080/"
        },
        "id": "_oHLrmQDkcc5",
        "outputId": "1f3a153e-b962-49e2-ef89-eba68a130b3c"
      },
      "outputs": [
        {
          "output_type": "stream",
          "name": "stdout",
          "text": [
            "   Product ID    Product Name  Price  Quantity Sold  Sales Date\n",
            "0         101      Blue Jeans  59.99             20  2023-12-15\n",
            "1         102       Red Shirt  24.99             35  2023-12-20\n",
            "2         103     Black Shoes  79.99             15  2023-12-25\n",
            "3         104    Green Jacket  99.99             10  2023-12-30\n",
            "4         105  White Sneakers  64.99             25  2024-01-05\n"
          ]
        }
      ],
      "source": [
        "#1. Read the file in DataFrame\n",
        "import pandas as pd\n",
        "\n",
        "# Read the CSV file into a DataFrame\n",
        "df = pd.read_csv('/content/drive/MyDrive/Colab Notebooks/product-info.csv')\n",
        "\n",
        "# Display the first few rows of the DataFrame\n",
        "print(df.head())"
      ]
    },
    {
      "cell_type": "code",
      "source": [
        "# Calculate total sales\n",
        "df['Total Sales'] = df['Price'] * df['Quantity Sold']\n",
        "total_sales = df['Total Sales'].sum()\n",
        "print(f\"Total Sales: {total_sales}\")\n",
        "\n",
        "# Calculate average sales price\n",
        "average_sales_price = df['Price'].mean()\n",
        "print(f\"Average Sales Price: {average_sales_price}\")\n",
        "\n",
        "# Calculate the standard deviation of sales prices\n",
        "std_dev_sales_price = df['Price'].std()\n",
        "print(f\"Standard Deviation of Sales Prices: {std_dev_sales_price}\")\n",
        "\n",
        "# Calculate average sales price for each product\n",
        "average_sales_by_product = df.groupby('Product Name')['Price'].mean()\n",
        "\n",
        "# Identify the product with the highest average sales price\n",
        "highest_avg_price_product = average_sales_by_product.idxmax()\n",
        "highest_avg_price = average_sales_by_product.max()\n",
        "print(f\"Product with Highest Average Sales Price: {highest_avg_price_product} (${highest_avg_price})\")\n",
        "\n",
        "# Identify the product with the lowest average sales price\n",
        "lowest_avg_price_product = average_sales_by_product.idxmin()\n",
        "lowest_avg_price = average_sales_by_product.min()\n",
        "print(f\"Product with Lowest Average Sales Price: {lowest_avg_price_product} (${lowest_avg_price})\")"
      ],
      "metadata": {
        "colab": {
          "base_uri": "https://localhost:8080/"
        },
        "id": "wv6xCFsPmChn",
        "outputId": "af142424-a52c-4af6-8379-6bb70100fa61"
      },
      "execution_count": 2,
      "outputs": [
        {
          "output_type": "stream",
          "name": "stdout",
          "text": [
            "Total Sales: 11746.4\n",
            "Average Sales Price: 46.489999999999995\n",
            "Standard Deviation of Sales Prices: 29.91190769948019\n",
            "Product with Highest Average Sales Price: Green Jacket ($99.99)\n",
            "Product with Lowest Average Sales Price: Orange Socks ($9.99)\n"
          ]
        }
      ]
    },
    {
      "cell_type": "code",
      "source": [
        "#2. File not available"
      ],
      "metadata": {
        "id": "NHPw9WX8nbrE"
      },
      "execution_count": null,
      "outputs": []
    },
    {
      "cell_type": "code",
      "source": [
        "#3\n",
        "import pandas as pd\n",
        "\n",
        "# Read the CSV file into a DataFrame\n",
        "df = pd.read_csv('/content/drive/MyDrive/Colab Notebooks/house-info.csv')\n",
        "\n",
        "# Extract the Price column\n",
        "#prices = df['Price']; This is a string column\n",
        "prices = df['Price'].replace('[\\$,]', '', regex=True).astype(int)\n",
        "\n",
        "# Calculate the first quartile (Q1)\n",
        "Q1 = prices.quantile(0.25)\n",
        "\n",
        "# Calculate the second quartile (median)\n",
        "median = prices.median()\n",
        "\n",
        "# Calculate the third quartile (Q3)\n",
        "Q3 = prices.quantile(0.75)\n",
        "\n",
        "# Compute the Interquartile Range (IQR)\n",
        "IQR = Q3 - Q1\n",
        "\n",
        "# Define the lower and upper bounds for identifying outliers\n",
        "lower_bound = Q1 - 1.5 * IQR\n",
        "upper_bound = Q3 + 1.5 * IQR\n",
        "\n",
        "# Identify outliers\n",
        "outliers = df[(prices < lower_bound) | (prices > upper_bound)]\n",
        "\n",
        "# Print the results\n",
        "print(f\"First Quartile (Q1): {Q1}\")\n",
        "print(f\"Second Quartile (Median): {median}\")\n",
        "print(f\"Third Quartile (Q3): {Q3}\")\n",
        "print(f\"Interquartile Range (IQR): {IQR}\")\n",
        "print(\"\\nOutliers:\")\n",
        "print(outliers)\n"
      ],
      "metadata": {
        "colab": {
          "base_uri": "https://localhost:8080/"
        },
        "id": "CjOUJS1HnhuU",
        "outputId": "ff74ad1e-6e04-4c99-ab4c-9eb447c574fc"
      },
      "execution_count": 4,
      "outputs": [
        {
          "output_type": "stream",
          "name": "stdout",
          "text": [
            "First Quartile (Q1): 290000.0\n",
            "Second Quartile (Median): 330000.0\n",
            "Third Quartile (Q3): 410000.0\n",
            "Interquartile Range (IQR): 120000.0\n",
            "\n",
            "Outliers:\n",
            "    House ID  Location  Number of Bedrooms  Square Footage     Price\n",
            "12        13  Suburban                   3            1500  $900,000\n",
            "20        21     Rural                   4            3000  $950,000\n"
          ]
        }
      ]
    },
    {
      "cell_type": "code",
      "source": [
        "#4\n",
        "import pandas as pd\n",
        "\n",
        "# Read the CSV file into a DataFrame\n",
        "df = pd.read_csv('/content/drive/MyDrive/Colab Notebooks/visitor-info.csv')\n",
        "\n",
        "# Calculate the average number of visitors per day\n",
        "average_visitors = df['Number of Visitors'].mean()\n",
        "\n",
        "# Calculate the minimum number of visitors per day\n",
        "min_visitors = df['Number of Visitors'].min()\n",
        "\n",
        "# Calculate the maximum number of visitors per day\n",
        "max_visitors = df['Number of Visitors'].max()\n",
        "\n",
        "# Perform correlation analysis between Bounce Rate and Conversion Rate\n",
        "correlation = df[['Bounce Rate (%)', 'Conversion Rate (%)']].corr()\n",
        "\n",
        "# Print the results\n",
        "print(f\"Average Number of Visitors per Day: {average_visitors}\")\n",
        "print(f\"Minimum Number of Visitors per Day: {min_visitors}\")\n",
        "print(f\"Maximum Number of Visitors per Day: {max_visitors}\")\n",
        "print(\"\\nCorrelation Analysis between Bounce Rate and Conversion Rate:\")\n",
        "print(correlation)\n"
      ],
      "metadata": {
        "colab": {
          "base_uri": "https://localhost:8080/"
        },
        "id": "R4sSMT0apxBr",
        "outputId": "6d3fd763-d461-41a3-8269-332287b4b25d"
      },
      "execution_count": 6,
      "outputs": [
        {
          "output_type": "stream",
          "name": "stdout",
          "text": [
            "Average Number of Visitors per Day: 5248.275862068966\n",
            "Minimum Number of Visitors per Day: 4500\n",
            "Maximum Number of Visitors per Day: 6200\n",
            "\n",
            "Correlation Analysis between Bounce Rate and Conversion Rate:\n",
            "                     Bounce Rate (%)  Conversion Rate (%)\n",
            "Bounce Rate (%)             1.000000            -0.816605\n",
            "Conversion Rate (%)        -0.816605             1.000000\n"
          ]
        }
      ]
    },
    {
      "cell_type": "code",
      "source": [
        "#5\n",
        "import pandas as pd\n",
        "\n",
        "# Read the CSV file into a DataFrame\n",
        "df = pd.read_csv('/content/drive/MyDrive/Colab Notebooks/purchase-info.csv')\n",
        "\n",
        "# Calculate the average purchase amount for each category\n",
        "average_purchase_per_category = df.groupby('Category')['Purchase Amount'].mean()\n",
        "\n",
        "# Find the most frequent purchase category\n",
        "most_frequent_category = df['Category'].value_counts().idxmax()\n",
        "\n",
        "# Find the customer who made the most purchases\n",
        "customer_most_purchases = df['Customer ID'].value_counts().idxmax()\n",
        "\n",
        "# Print the results\n",
        "print(\"Average Purchase Amount for Each Category:\")\n",
        "print(average_purchase_per_category)\n",
        "print(\"\\nMost Frequent Purchase Category:\")\n",
        "print(most_frequent_category)\n",
        "print(\"\\nCustomer Who Made the Most Purchases:\")\n",
        "print(customer_most_purchases)\n"
      ],
      "metadata": {
        "colab": {
          "base_uri": "https://localhost:8080/"
        },
        "id": "BAA8Z210qXez",
        "outputId": "2450a4ae-4adb-4328-ed0d-ce1c21ee99da"
      },
      "execution_count": 8,
      "outputs": [
        {
          "output_type": "stream",
          "name": "stdout",
          "text": [
            "Average Purchase Amount for Each Category:\n",
            "Category\n",
            "Clothing       37.8\n",
            "Electronics    29.7\n",
            "Home Goods     69.9\n",
            "Name: Purchase Amount, dtype: float64\n",
            "\n",
            "Most Frequent Purchase Category:\n",
            "Electronics\n",
            "\n",
            "Customer Who Made the Most Purchases:\n",
            "1001\n"
          ]
        }
      ]
    }
  ]
}